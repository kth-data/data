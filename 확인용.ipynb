{
 "cells": [
  {
   "cell_type": "markdown",
   "id": "fba2465b",
   "metadata": {},
   "source": [
    "# 마크다운 적었는데, 왜 html에서는 이렇게 안보일까에 대한 건\n",
    "* 글씨 확인용 업로드"
   ]
  },
  {
   "cell_type": "code",
   "execution_count": 1,
   "id": "d1f135dd",
   "metadata": {},
   "outputs": [
    {
     "name": "stdout",
     "output_type": "stream",
     "text": [
      "마크다운 제대로 해라\n"
     ]
    }
   ],
   "source": [
    "print(\"마크다운 제대로 해라\")"
   ]
  },
  {
   "cell_type": "code",
   "execution_count": 2,
   "id": "265d76ec",
   "metadata": {},
   "outputs": [
    {
     "name": "stdout",
     "output_type": "stream",
     "text": [
      "이게 맞나\n"
     ]
    }
   ],
   "source": [
    "print(\"이게 맞나\")"
   ]
  },
  {
   "cell_type": "code",
   "execution_count": null,
   "id": "ae85b11a",
   "metadata": {},
   "outputs": [],
   "source": []
  }
 ],
 "metadata": {
  "kernelspec": {
   "display_name": "Python 3 (ipykernel)",
   "language": "python",
   "name": "python3"
  },
  "language_info": {
   "codemirror_mode": {
    "name": "ipython",
    "version": 3
   },
   "file_extension": ".py",
   "mimetype": "text/x-python",
   "name": "python",
   "nbconvert_exporter": "python",
   "pygments_lexer": "ipython3",
   "version": "3.9.12"
  },
  "toc": {
   "base_numbering": 1,
   "nav_menu": {},
   "number_sections": true,
   "sideBar": true,
   "skip_h1_title": false,
   "title_cell": "Table of Contents",
   "title_sidebar": "Contents",
   "toc_cell": false,
   "toc_position": {},
   "toc_section_display": true,
   "toc_window_display": false
  },
  "varInspector": {
   "cols": {
    "lenName": 16,
    "lenType": 16,
    "lenVar": 40
   },
   "kernels_config": {
    "python": {
     "delete_cmd_postfix": "",
     "delete_cmd_prefix": "del ",
     "library": "var_list.py",
     "varRefreshCmd": "print(var_dic_list())"
    },
    "r": {
     "delete_cmd_postfix": ") ",
     "delete_cmd_prefix": "rm(",
     "library": "var_list.r",
     "varRefreshCmd": "cat(var_dic_list()) "
    }
   },
   "types_to_exclude": [
    "module",
    "function",
    "builtin_function_or_method",
    "instance",
    "_Feature"
   ],
   "window_display": false
  }
 },
 "nbformat": 4,
 "nbformat_minor": 5
}
